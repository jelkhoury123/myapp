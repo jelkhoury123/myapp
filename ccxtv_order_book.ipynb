{
 "cells": [
  {
   "cell_type": "code",
   "execution_count": null,
   "metadata": {},
   "outputs": [],
   "source": [
    "import dash\n",
    "import dash_core_components as dcc \n",
    "import dash_html_components as html \n",
    "import dash_table  \n",
    "from dash.dependencies import Input, Output\n",
    "import plotly.graph_objs as go \n",
    "import plotly.figure_factory as ffimport \n",
    "import pandas as pd\n",
    "import plotly.graph_objs as go\n",
    "import numpy as np\n",
    "import itertools\n",
    "import ccxt\n",
    "import ccxt.websocket_support\n",
    "import json\n",
    "\n",
    "# ccxt.binance = ccxtv.binance\n",
    "#ccxt.bitstamp = ccxt.websocket_support.bitstamp\n",
    "#ccxt.bitmex = ccxt.websocket_support.bitmex\n",
    "#ccxt.coinbasepro = ccxt.websocket_support.coinbasepro\n",
    "\n",
    "# Define my world\n",
    "spot_exchanges_2 = ['bitstamp','coinbasepro','kraken','liquid','bitfinex','gemini','binance',\n",
    "                'bittrex','bitbank','huobipro','poloniex','bithumb']\n",
    "spot_exchanges = ['bitstamp','coinbasepro']\n",
    "exch_dict={}\n",
    "for x in spot_exchanges:\n",
    "    exec('exch_dict[x]=ccxt.{}()'.format(x))\n",
    "\n",
    "Xpto= ['BTC','ETH','XRP','XMR','BCH','EOS','USDT','USDC','TRX','XLM','BSV','XBT','CSP']\n",
    "Fiat=['USD','EUR','GBP','CHF','HKD','JPY','CNH','KRW']\n",
    "xpto_fiat = [xpto+'/'+ fiat for xpto in Xpto for fiat in Fiat]\n",
    "xpto_xpto = [p[0]+'/'+p[1] for p in itertools.permutations(Xpto,2)]\n",
    "\n",
    "all_pairs = set(sum(itertools.chain([*exch_dict[x].load_markets()] for x in exch_dict),[])) \n",
    "pairs = list(set(xpto_fiat + xpto_xpto) & set(all_pairs))\n",
    "pairs.sort()\n",
    "\n",
    "def get_exchanges_for_pair(pair):\n",
    "    '''input: a pair\n",
    "    output: a dictionary of ccxt exchange objects of the exchanges listing the pair\n",
    "    '''\n",
    "    return {x:exch_dict[x] for x in exch_dict if pair in list(exch_dict[x].load_markets().keys())}\n",
    "\n",
    "def get_order_books(pair):\n",
    "    '''pair is the pair string ,'BTC/USD'...\n",
    "        returns a dictionary of order books for the pair\n",
    "        special case for binance which API fails if # of parmaeters > 2\n",
    "    '''\n",
    "    ex = get_exchanges_for_pair(pair)\n",
    "    nobinance= {key:value for key, value in ex.items() if key != 'binance'and  key != 'bitfinex'}\n",
    "    order_books = {key: value.fetch_order_book(pair,limit=2000 if key!='bithumb' else 50,\n",
    "                        params={'full':1,'level':3,'limit_bids':0,'limit_asks':0,'type':'both'})\n",
    "                        for key,value in nobinance.items() }\n",
    "    if 'binance' in ex:\n",
    "        order_books['binance'] =  ex['binance'].fetch_order_book(pair,limit=1000)\n",
    "    if 'bitfinex' in ex:\n",
    "        order_books['bitfinex'] =  ex['bitfinex'].fetch_order_book(pair,limit=2000)\n",
    "    return order_books\n",
    "\n",
    "def aggregate_order_books(dict_of_order_books):\n",
    "    '''dict_of_order_books is a dict of ccxt like order_books\n",
    "        retuns a ccxt like dictionary order book sorted by prices \n",
    "    '''\n",
    "    agg_dict_order_book = {}\n",
    "    bids = []\n",
    "    for x in dict_of_order_books:\n",
    "        for bid in dict_of_order_books[x]['bids']:\n",
    "            bids.append(bid+[x])\n",
    "    asks = []\n",
    "    for x in dict_of_order_books:\n",
    "        for ask in dict_of_order_books[x]['asks']:\n",
    "            asks.append(ask+[x])\n",
    "    agg_dict_order_book['bids'] = (pd.DataFrame(bids)).sort_values(by=0,ascending=False).values.tolist()\n",
    "    agg_dict_order_book['asks'] = (pd.DataFrame(asks)).sort_values(by=0,ascending=True).values.tolist()\n",
    "    return agg_dict_order_book\n",
    "\n",
    "def normalize_order_book(order_book,cutoff=.1,step=.001):\n",
    "    '''order_book is a dictionary with keys bids asks timestamp datetime ...\n",
    "    where bids is a list of list [[bid,bid_size]] and \n",
    "    asks is a list of list [[ask,ask_size]]\n",
    "    this is returned by ccxt.'exchange'.fetch_order_book()\n",
    "    returns a dataframe with columns [ask, ask_size, ask_size_$, cum_ask_size_$, bid_, bid_size, bid_size_$, cum_bid_size_$]\n",
    "    and an index of shape np.linspace(1 - cutoff,1 + cutoff ,step =.001 ~ 10 bps)  \n",
    "    '''\n",
    "    try:\n",
    "        rounding = int(np.ceil(-np.log(step)/np.log(10)))\n",
    "        agg = True\n",
    "    except:\n",
    "        agg = False\n",
    "    bid_side = pd.DataFrame(order_book['bids'],columns=['bid','bid_size','exc'])\n",
    "    bid_side['cum_bid_size'] = bid_side['bid_size'].cumsum()\n",
    "    ask_side = pd.DataFrame(order_book['asks'],columns=['ask','ask_size','exc'])\n",
    "    ask_side['cum_ask_size'] = ask_side['ask_size'].cumsum()\n",
    "    ref = (bid_side['bid'][0]+ask_side['ask'][0])/2\n",
    "    bid_side['bid%'] = round(bid_side['bid']/ref,rounding) if agg else bid_side['bid']/ref\n",
    "    ask_side['ask%'] = round(ask_side['ask']/ref,rounding) if agg else ask_side['ask']/ref\n",
    "    bid_side = bid_side[bid_side['bid%']>=1-cutoff]\n",
    "    ask_side = ask_side[ask_side['ask%']<=1+cutoff]\n",
    "    bid_side['bid_size_$'] = bid_side['bid_size']*bid_side['bid']\n",
    "    bid_side['cum_bid_size_$'] = bid_side['bid_size_$'].cumsum()\n",
    "    ask_side['ask_size_$'] = ask_side['ask_size']*ask_side['ask']\n",
    "    ask_side['cum_ask_size_$'] = ask_side['ask_size_$'].cumsum()\n",
    "    normalized_bids = pd.DataFrame(bid_side.groupby('bid%',sort=False).mean()['bid'])\n",
    "    normalized_bids.columns = ['bid']\n",
    "    normalized_bids['bid_size'] = bid_side.groupby('bid%',sort=False).sum()['bid_size']\n",
    "    normalized_bids['cum_bid_size'] = normalized_bids['bid_size'].cumsum()\n",
    "    normalized_bids['bid_size_$'] = bid_side.groupby('bid%',sort=False).sum()['bid_size_$']\n",
    "    normalized_bids['cum_bid_size_$'] = normalized_bids['bid_size_$'].cumsum()\n",
    "    normalized_bids['average_bid_fill'] = normalized_bids['cum_bid_size_$']/normalized_bids['cum_bid_size']\n",
    "    normalized_bids['bids_exc']=bid_side.groupby('bid%',sort=False).apply(lambda x: x['exc'].loc[x['bid_size'].idxmax()])\n",
    "    normalized_asks = pd.DataFrame(ask_side.groupby('ask%',sort=False).mean()['ask'])\n",
    "    normalized_asks.columns = ['ask']\n",
    "    normalized_asks['ask_size'] = ask_side.groupby('ask%',sort=False).sum()['ask_size']\n",
    "    normalized_asks['cum_ask_size'] = normalized_asks['ask_size'].cumsum()\n",
    "    normalized_asks['ask_size_$'] = ask_side.groupby('ask%',sort=False).sum()['ask_size_$']\n",
    "    normalized_asks['cum_ask_size_$'] = normalized_asks['ask_size_$'].cumsum()\n",
    "    normalized_asks['average_ask_fill']=normalized_asks['cum_ask_size_$']/normalized_asks['cum_ask_size']\n",
    "    normalized_asks['asks_exc']=ask_side.groupby('ask%',sort=False).apply(lambda x: x['exc'].loc[x['ask_size'].idxmax()])\n",
    "    book=pd.concat([normalized_asks,normalized_bids],sort=False)\n",
    "    return book\n",
    "\n",
    "def build_book(order_books,pair,exchanges,cutoff=.1,step=0.001):\n",
    "    ''' gets order books aggreagtes them then normalizes\n",
    "        returns a dataframe\n",
    "    '''\n",
    "    return normalize_order_book(aggregate_order_books({key:order_books[key] for key in exchanges}),cutoff,step)\n",
    "\n",
    "def plot_book(order_books,pair, exc, relative=True, currency=True, cutoff=.1):\n",
    "    ''' plots the order book as a v shape chart '''\n",
    "    order_book = build_book(order_books,pair,exc,cutoff)\n",
    "    best_bid = round(order_book['bid'].max(),3)\n",
    "    best_ask = round(order_book['ask'].min(),3)\n",
    "    if currency:\n",
    "        col_to_chart = '_$'\n",
    "    else:\n",
    "        col_to_chart = ''\n",
    "    if relative:\n",
    "        figure = go.Figure(data=[{'x':order_book.index,'y':order_book['cum_ask_size'+col_to_chart],'name':'asks'}\n",
    "                      ,{'x':order_book.index,'y':order_book['cum_bid_size'+col_to_chart],'name':'bids'}],\n",
    "     layout={'title':' / '.join(exc), 'xaxis':{'title':pair +'  ' + str(best_bid)+' / '+ str(best_ask)}})\n",
    "    else:\n",
    "        figure= go.Figure(data=[{'x':order_book['ask'].fillna(0)+order_book['bid'].fillna(0),'y':order_book['cum_ask_size'+col_to_chart],'name':'asks'}\n",
    "                      ,{'x':order_book['ask'].fillna(0)+order_book['bid'].fillna(0),'y':order_book['cum_bid_size'+col_to_chart],'name':'bids'}],\n",
    "     layout={'title':' / '.join(exc), 'xaxis':{'title':pair +'  ' + str(best_bid)+' / '+ str(best_ask)}})\n",
    "    return figure\n",
    "\n",
    "def plot_depth(order_books,pair, exc, relative=True, currency=True, cutoff=.1):\n",
    "    if currency:\n",
    "        col_to_chart = '_$'\n",
    "    else:\n",
    "        col_to_chart = ''\n",
    "    order_book = build_book(order_books,pair,exc,cutoff)\n",
    "    mid = (order_book['bid'].max()+order_book['ask'].min())/2 if relative else 1\n",
    "    figure = go.Figure(data=[{'x':order_book['cum_ask_size'+col_to_chart],'y':order_book['average_ask_fill']/mid,'name':'ask depth'},\n",
    "                            {'x':- order_book['cum_bid_size'+col_to_chart],'y':order_book['average_bid_fill']/mid,'name':'bid depth'}],\n",
    "    layout={'title': 'Market Depth'})\n",
    "\n",
    "    return figure\n",
    "\n",
    "def order_fill(order_book_df, order_sizes,in_ccy=True):\n",
    "    '''takes in an order book dataframe and an np.array of order sizes\n",
    "        with size in currecncy by default else in coin\n",
    "        returns an np.array of the purchase costs or the sale proceeds of an order\n",
    "    '''\n",
    "    average_fills = np.zeros(order_sizes.shape)\n",
    "    mid=(order_book_df['ask'].min()+order_book_df['bid'].max())/2\n",
    "    print(mid)\n",
    "    if in_ccy:\n",
    "        order_sizes=order_sizes/mid\n",
    "    for i , order_size in enumerate(order_sizes):\n",
    "        if order_size > 0:\n",
    "            last_line = order_book_df[order_book_df['cum_ask_size']>order_size].iloc[0]\n",
    "            ccy_fill = last_line['cum_ask_size_$']+(order_size-last_line['cum_ask_size'])*last_line['ask']\n",
    "            average_fill=ccy_fill/order_size\n",
    "        elif order_size < 0:\n",
    "            last_line=order_book_df[order_book_df['cum_bid_size'] > -order_size].iloc[0]\n",
    "            ccy_fill=last_line['cum_bid_size_$']+(-order_size-last_line['cum_bid_size'])*last_line['bid']\n",
    "            average_fill = -ccy_fill/order_size\n",
    "        average_fills[i]=average_fill\n",
    "    return average_fills\n"
   ]
  },
  {
   "cell_type": "code",
   "execution_count": null,
   "metadata": {},
   "outputs": [],
   "source": [
    "pair = 'BTC/USD'\n",
    "#pair='CSP/BTC'"
   ]
  },
  {
   "cell_type": "code",
   "execution_count": null,
   "metadata": {},
   "outputs": [],
   "source": [
    "%%timeit\n",
    "order_books=get_order_books(pair)"
   ]
  },
  {
   "cell_type": "code",
   "execution_count": null,
   "metadata": {},
   "outputs": [],
   "source": [
    "order_books"
   ]
  },
  {
   "cell_type": "code",
   "execution_count": null,
   "metadata": {},
   "outputs": [],
   "source": []
  },
  {
   "cell_type": "code",
   "execution_count": null,
   "metadata": {},
   "outputs": [],
   "source": [
    "aggregated = aggregate_order_books(order_books)"
   ]
  },
  {
   "cell_type": "code",
   "execution_count": null,
   "metadata": {},
   "outputs": [],
   "source": [
    "normalized=normalize_order_book(aggregated)"
   ]
  },
  {
   "cell_type": "code",
   "execution_count": null,
   "metadata": {},
   "outputs": [],
   "source": [
    "normalized"
   ]
  },
  {
   "cell_type": "code",
   "execution_count": null,
   "metadata": {},
   "outputs": [],
   "source": [
    "order_books.keys()"
   ]
  },
  {
   "cell_type": "code",
   "execution_count": null,
   "metadata": {},
   "outputs": [],
   "source": [
    "exc=get_exchanges_for_pair(pair)\n",
    "exc"
   ]
  },
  {
   "cell_type": "code",
   "execution_count": null,
   "metadata": {},
   "outputs": [],
   "source": [
    "from plotly.offline import plot, iplot , init_notebook_mode\n",
    "init_notebook_mode(connected=True)"
   ]
  },
  {
   "cell_type": "code",
   "execution_count": null,
   "metadata": {},
   "outputs": [],
   "source": [
    "dplot=plot_book(order_books,pair,exc)"
   ]
  },
  {
   "cell_type": "code",
   "execution_count": null,
   "metadata": {},
   "outputs": [],
   "source": [
    "dplot2=plot_depth(order_books,pair,exc)"
   ]
  },
  {
   "cell_type": "code",
   "execution_count": null,
   "metadata": {},
   "outputs": [],
   "source": [
    "iplot(dplot)"
   ]
  },
  {
   "cell_type": "code",
   "execution_count": null,
   "metadata": {},
   "outputs": [],
   "source": [
    "iplot(dplot2)"
   ]
  },
  {
   "cell_type": "code",
   "execution_count": null,
   "metadata": {},
   "outputs": [],
   "source": [
    "def get_pairs_for_exchange(ex):\n",
    "    '''input: an exchange\n",
    "    output: a list of pairs '''\n",
    "    d={}\n",
    "    exec('d[ex]=ccxt.{}()'.format(ex))\n",
    "    d[ex].load_markets()\n",
    "    return d[ex].symbols"
   ]
  },
  {
   "cell_type": "code",
   "execution_count": null,
   "metadata": {},
   "outputs": [],
   "source": [
    "[ p for p in get_pairs_for_exchange('kraken') if 'GBP' in p]"
   ]
  },
  {
   "cell_type": "code",
   "execution_count": null,
   "metadata": {},
   "outputs": [],
   "source": [
    "fees={x:ex.fees for x,ex in exch_dict.items()}"
   ]
  },
  {
   "cell_type": "code",
   "execution_count": null,
   "metadata": {},
   "outputs": [],
   "source": [
    "fees.keys()"
   ]
  },
  {
   "cell_type": "code",
   "execution_count": null,
   "metadata": {},
   "outputs": [],
   "source": [
    "feest=pd.DataFrame(fees).T"
   ]
  },
  {
   "cell_type": "code",
   "execution_count": null,
   "metadata": {},
   "outputs": [],
   "source": [
    "feest['taker']=feest['trading'].apply(lambda x:x['taker'] if 'taker' in x.keys() else np.nan)"
   ]
  },
  {
   "cell_type": "code",
   "execution_count": null,
   "metadata": {},
   "outputs": [],
   "source": [
    "feest['funding']['coinbasepro']"
   ]
  },
  {
   "cell_type": "code",
   "execution_count": null,
   "metadata": {},
   "outputs": [],
   "source": [
    "feest['deposit']=feest['funding'].apply(lambda x:x['deposit'])"
   ]
  },
  {
   "cell_type": "code",
   "execution_count": null,
   "metadata": {},
   "outputs": [],
   "source": [
    "feest['withdrawal']=feest['funding'].apply(lambda x:x['withdraw'])"
   ]
  },
  {
   "cell_type": "code",
   "execution_count": null,
   "metadata": {},
   "outputs": [],
   "source": [
    "feest.drop(['funding','trading'],axis=1).iloc[0]['deposit']"
   ]
  },
  {
   "cell_type": "code",
   "execution_count": null,
   "metadata": {},
   "outputs": [],
   "source": [
    "feest.drop(['funding','trading'],axis=1).iloc[0]['withdrawal']"
   ]
  },
  {
   "cell_type": "code",
   "execution_count": null,
   "metadata": {},
   "outputs": [],
   "source": [
    "feest.loc['kraken']['withdrawal']"
   ]
  },
  {
   "cell_type": "code",
   "execution_count": null,
   "metadata": {},
   "outputs": [],
   "source": [
    "order_books.keys()"
   ]
  },
  {
   "cell_type": "code",
   "execution_count": null,
   "metadata": {},
   "outputs": [],
   "source": [
    "import json\n",
    "import datetime as dt"
   ]
  },
  {
   "cell_type": "code",
   "execution_count": null,
   "metadata": {},
   "outputs": [],
   "source": []
  },
  {
   "cell_type": "code",
   "execution_count": null,
   "metadata": {},
   "outputs": [],
   "source": [
    "save_this=json.dumps((order_books,dt.datetime.now().strftime(\"%Y-%m-%d  %H:%M:%S\")))"
   ]
  },
  {
   "cell_type": "code",
   "execution_count": null,
   "metadata": {},
   "outputs": [],
   "source": [
    "time_snap=json.loads(save_this)[1]"
   ]
  },
  {
   "cell_type": "code",
   "execution_count": null,
   "metadata": {},
   "outputs": [],
   "source": [
    "(dt.datetime.now()-dt.datetime.strptime(time_snap,\"%Y-%m-%d  %H:%M:%S\")).seconds"
   ]
  },
  {
   "cell_type": "code",
   "execution_count": null,
   "metadata": {},
   "outputs": [],
   "source": [
    "normalized"
   ]
  },
  {
   "cell_type": "code",
   "execution_count": null,
   "metadata": {},
   "outputs": [],
   "source": [
    "def get_liq_params(normalized):\n",
    "\n",
    "    best_bid = normalized['bid'].max()\n",
    "    best_ask = normalized['ask'].min()\n",
    "    mid= (best_bid+best_ask)/2\n",
    "    spread = best_ask-best_bid\n",
    "    spread_pct = spread/mid\n",
    "    cross = min(0,spread)\n",
    "    cross_pct = min(0,spread_pct)\n",
    "    return pd.DataFrame([best_bid,best_ask,mid,spread,spread_pct,cross,cross_pct],index=['bid','ask','mid','spread','spread%','cross','cross%']).T"
   ]
  },
  {
   "cell_type": "code",
   "execution_count": null,
   "metadata": {},
   "outputs": [],
   "source": [
    "get_liq_params(normalized)"
   ]
  },
  {
   "cell_type": "code",
   "execution_count": null,
   "metadata": {},
   "outputs": [],
   "source": [
    "coinmarketcap=ccxt.coinmarketcap()"
   ]
  },
  {
   "cell_type": "code",
   "execution_count": null,
   "metadata": {},
   "outputs": [],
   "source": [
    "coinmarketcap.load_markets()"
   ]
  },
  {
   "cell_type": "code",
   "execution_count": null,
   "metadata": {},
   "outputs": [],
   "source": [
    "coinmarketcap.symbols"
   ]
  },
  {
   "cell_type": "code",
   "execution_count": null,
   "metadata": {},
   "outputs": [],
   "source": [
    "order_books['bitstamp']"
   ]
  },
  {
   "cell_type": "code",
   "execution_count": null,
   "metadata": {},
   "outputs": [],
   "source": [
    "kucoin=ccxt.kucoin2()"
   ]
  },
  {
   "cell_type": "code",
   "execution_count": null,
   "metadata": {},
   "outputs": [],
   "source": []
  },
  {
   "cell_type": "code",
   "execution_count": null,
   "metadata": {},
   "outputs": [],
   "source": []
  }
 ],
 "metadata": {
  "kernelspec": {
   "display_name": "Python 3",
   "language": "python",
   "name": "python3"
  },
  "language_info": {
   "codemirror_mode": {
    "name": "ipython",
    "version": 3
   },
   "file_extension": ".py",
   "mimetype": "text/x-python",
   "name": "python",
   "nbconvert_exporter": "python",
   "pygments_lexer": "ipython3",
   "version": "3.7.1"
  }
 },
 "nbformat": 4,
 "nbformat_minor": 2
}
