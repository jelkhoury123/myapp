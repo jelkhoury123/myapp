{
 "cells": [
  {
   "cell_type": "code",
   "execution_count": 1,
   "metadata": {},
   "outputs": [],
   "source": [
    "import dash\n",
    "import dash_core_components as dcc \n",
    "import dash_html_components as html \n",
    "import dash_table \n",
    "from dash_table.Format import Format, Scheme, Sign, Symbol\n",
    "import dash_table.FormatTemplate as FormatTemplate\n",
    "from dash.dependencies import Input, Output, State\n",
    "import plotly.graph_objs as go \n",
    "import plotly.figure_factory as ffimport \n",
    "import pandas as pd\n",
    "import plotly.graph_objs as go\n",
    "import numpy as np\n",
    "import itertools\n",
    "import json\n",
    "import datetime as dt \n",
    "\n",
    "import sys\n",
    "sys.path.append('..')\n",
    "\n",
    "from app import app\n",
    "\n",
    "ENABLE_WEBSOCKET_SUPPORT = True\n",
    "refresh_rate = 5 if ENABLE_WEBSOCKET_SUPPORT else 7\n",
    "if ENABLE_WEBSOCKET_SUPPORT:\n",
    "    import diginex.ccxt.websocket_support as ccxt\n",
    "else:\n",
    "    import ccxt\n",
    "    \n",
    "# Define my world\n",
    "deriv_exchanges =['deribit','bitmex']\n",
    "\n",
    "exchanges =  deriv_exchanges \n",
    "\n",
    "api_keys = {'deribit':'4v58Wk2hhiG9B','bitmex':'DM55KFt84AfdjJiyNjDBk_km'}\n",
    "api_secrets = {'deribit':'QLXLOZCOHAEQ6XV247KEXAKPX43GZLT4','bitmex':'jPDWiZcKuXJtVpajawENQiBzCKO2U885i3TWU9WIihBBUZgc'}\n",
    "\n",
    "exch_dict={}\n",
    "for x in exchanges:\n",
    "    exec('exch_dict[x]=ccxt.{}()'.format(x))\n",
    "for x,xccxt in exch_dict.items():\n",
    "    xccxt.load_markets()\n",
    "    xccxt.apiKey=api_keys[x]\n",
    "    xccxt.secret=api_secrets[x]\n",
    "\n",
    "deribit = exch_dict['deribit']\n",
    "bitmex = exch_dict['bitmex']\n",
    "\n",
    "Xpto = ['BTC','ETH']"
   ]
  },
  {
   "cell_type": "code",
   "execution_count": 2,
   "metadata": {},
   "outputs": [],
   "source": [
    "def get_instruments():\n",
    "    deribit_all_ins={}\n",
    "    for base in Xpto:\n",
    "        base_list=[]\n",
    "        for ins in deribit.markets:\n",
    "            market = deribit.markets[ins]\n",
    "            if market['type']=='future' and market['base']==base:\n",
    "                base_list.append(ins)\n",
    "        deribit_all_ins[base]=base_list\n",
    "    bitmex_all_ins={}\n",
    "    for base in Xpto:\n",
    "        base_list=[]\n",
    "        for ins in bitmex.markets:\n",
    "            market = bitmex.markets[ins]\n",
    "            if market['type'] in ('future','swap') and market['base']==base and market['info']['hasLiquidity']:\n",
    "                expiry = market['info']['expiry']\n",
    "                if expiry is None:\n",
    "                    base_list.append(ins)\n",
    "                else:\n",
    "                    dt_expiry = dt.datetime.strptime(expiry,\"%Y-%m-%dT%H:%M:%S.%fZ\")\n",
    "                    if dt_expiry > dt.datetime.now():\n",
    "                        base_list.append(ins)\n",
    "        bitmex_all_ins[base]=base_list\n",
    "    return deribit_all_ins,bitmex_all_ins"
   ]
  },
  {
   "cell_type": "code",
   "execution_count": 3,
   "metadata": {},
   "outputs": [],
   "source": [
    "deribit_all_ins , bitmex_all_ins = get_instruments()\n",
    "deribit_ins = deribit_all_ins['BTC']\n",
    "bitmex_ins= bitmex_all_ins['BTC']\n",
    "instruments = deribit_ins + bitmex_ins"
   ]
  },
  {
   "cell_type": "code",
   "execution_count": 4,
   "metadata": {},
   "outputs": [],
   "source": [
    "def get_exchanges_for_pair(pair):\n",
    "    '''input: a pair\n",
    "    output: a dictionary of ccxt exchange objects of the exchanges listing the pair\n",
    "    '''\n",
    "    return {x:exch_dict[x] for x in exch_dict if pair in list(exch_dict[x].load_markets().keys())}"
   ]
  },
  {
   "cell_type": "code",
   "execution_count": 5,
   "metadata": {},
   "outputs": [],
   "source": [
    "def get_pairs_for_exchange(ex):\n",
    "    '''input: an exchange\n",
    "    output: a list of pairs '''\n",
    "    d={}\n",
    "    exec('d[ex]=ccxt.{}()'.format(ex))\n",
    "    d[ex].load_markets()\n",
    "    return d[ex].symbols"
   ]
  },
  {
   "cell_type": "code",
   "execution_count": 6,
   "metadata": {},
   "outputs": [],
   "source": [
    "def get_order_books(pair,ex):\n",
    "    '''pair is the pair string ,'BTC/USD'...\n",
    "        returns a dictionary of order books for the pair\n",
    "        special case for binance which API fails if # of parmaeters > 2\n",
    "    '''\n",
    "    order_books = {key: value.fetch_order_book(pair,limit=2000 ,\n",
    "                        params={'full':1,'level':3,'limit_bids':0,'limit_asks':0,'type':'both'})\n",
    "                        for key,value in ex.items() }\n",
    "    if 'deribit' in order_books:\n",
    "        bids_df = pd.DataFrame(order_books['deribit']['bids'])\n",
    "        asks_df = pd.DataFrame(order_books['deribit']['asks'])\n",
    "        bids_df[1]=bids_df[1]*10\n",
    "        asks_df[1]= asks_df[1]*10\n",
    "        order_books['deribit']['bids']=bids_df.values.tolist()\n",
    "        order_books['deribit']['asks']=asks_df.values.tolist()\n",
    "    return order_books"
   ]
  },
  {
   "cell_type": "code",
   "execution_count": null,
   "metadata": {},
   "outputs": [],
   "source": [
    "def aggregate_order_books(dict_of_order_books):\n",
    "    '''dict_of_order_books is a dict of ccxt like order_books\n",
    "        retuns a ccxt like dictionary order book sorted by prices \n",
    "    '''\n",
    "    agg_dict_order_book = {}\n",
    "    bids = []\n",
    "    for x in dict_of_order_books:\n",
    "        for bid in dict_of_order_books[x]['bids']:\n",
    "            bids.append(bid+[x])\n",
    "    asks = []\n",
    "    for x in dict_of_order_books:\n",
    "        for ask in dict_of_order_books[x]['asks']:\n",
    "            asks.append(ask+[x])\n",
    "    agg_dict_order_book['bids'] = (pd.DataFrame(bids)).sort_values(by=0,ascending=False).values.tolist()\n",
    "    agg_dict_order_book['asks'] = (pd.DataFrame(asks)).sort_values(by=0,ascending=True).values.tolist()\n",
    "    return agg_dict_order_book"
   ]
  },
  {
   "cell_type": "code",
   "execution_count": null,
   "metadata": {},
   "outputs": [],
   "source": [
    "def normalize_order_book(order_book,cutoff=.1,step=.001):\n",
    "    '''order_book is a dictionary with keys bids asks timestamp datetime ...\n",
    "    where bids is a list of list [[bid,bid_size]] and \n",
    "    asks is a list of list [[ask,ask_size]]\n",
    "    this is returned by ccxt.'exchange'.fetch_order_book()\n",
    "    returns a dataframe with columns [ask, ask_size, ask_size_$, cum_ask_size_$, bid_, bid_size, bid_size_$, cum_bid_size_$]\n",
    "    and an index of shape np.linspace(1 - cutoff,1 + cutoff ,step =.001 ~ 10 bps)  \n",
    "    '''\n",
    "    try:\n",
    "        rounding = int(np.ceil(-np.log(step)/np.log(10)))\n",
    "        agg = True\n",
    "    except:\n",
    "        agg = False\n",
    "    bid_side = pd.DataFrame(order_book['bids'],columns=['bid','bid_size_$','exc'])\n",
    "    bid_side['cum_bid_size_$'] = bid_side['bid_size_$'].cumsum()\n",
    "    ask_side = pd.DataFrame(order_book['asks'],columns=['ask','ask_size_$','exc'])\n",
    "    ask_side['cum_ask_size_$'] = ask_side['ask_size_$'].cumsum()\n",
    "    ref = (bid_side['bid'][0]+ask_side['ask'][0])/2\n",
    "    bid_side['bid%'] = round(bid_side['bid']/ref,rounding) if agg else bid_side['bid']/ref\n",
    "    ask_side['ask%'] = round(ask_side['ask']/ref,rounding) if agg else ask_side['ask']/ref\n",
    "    bid_side = bid_side[bid_side['bid%']>=1-cutoff]\n",
    "    ask_side = ask_side[ask_side['ask%']<=1+cutoff]\n",
    "    bid_side['bid_size'] = bid_side['bid_size_$']/bid_side['bid']\n",
    "    bid_side['cum_bid_size'] = bid_side['bid_size'].cumsum()\n",
    "    ask_side['ask_size'] = ask_side['ask_size_$']/ask_side['ask']\n",
    "    ask_side['cum_ask_size'] = ask_side['ask_size'].cumsum()\n",
    "    normalized_bids = pd.DataFrame(bid_side.groupby('bid%',sort=False).mean()['bid'])\n",
    "    normalized_bids.columns = ['bid']\n",
    "    normalized_bids['bid_size'] = bid_side.groupby('bid%',sort=False).sum()['bid_size']\n",
    "    normalized_bids['cum_bid_size'] = normalized_bids['bid_size'].cumsum()\n",
    "    normalized_bids['bid_size_$'] = bid_side.groupby('bid%',sort=False).sum()['bid_size_$']\n",
    "    normalized_bids['cum_bid_size_$'] = normalized_bids['bid_size_$'].cumsum()\n",
    "    normalized_bids['average_bid_fill'] = normalized_bids['cum_bid_size_$']/normalized_bids['cum_bid_size']\n",
    "    normalized_bids['bids_exc']=bid_side.groupby('bid%',sort=False).apply(lambda x: x['exc'].loc[x['bid_size'].idxmax()])\n",
    "    normalized_asks = pd.DataFrame(ask_side.groupby('ask%',sort=False).mean()['ask'])\n",
    "    normalized_asks.columns = ['ask']\n",
    "    normalized_asks['ask_size'] = ask_side.groupby('ask%',sort=False).sum()['ask_size']\n",
    "    normalized_asks['cum_ask_size'] = normalized_asks['ask_size'].cumsum()\n",
    "    normalized_asks['ask_size_$'] = ask_side.groupby('ask%',sort=False).sum()['ask_size_$']\n",
    "    normalized_asks['cum_ask_size_$'] = normalized_asks['ask_size_$'].cumsum()\n",
    "    normalized_asks['average_ask_fill']=normalized_asks['cum_ask_size_$']/normalized_asks['cum_ask_size']\n",
    "    normalized_asks['asks_exc']=ask_side.groupby('ask%',sort=False).apply(lambda x: x['exc'].loc[x['ask_size'].idxmax()])\n",
    "    book=pd.concat([normalized_asks,normalized_bids],sort=False)\n",
    "    return book"
   ]
  },
  {
   "cell_type": "code",
   "execution_count": null,
   "metadata": {},
   "outputs": [],
   "source": [
    "def build_book(order_books,pair,exchanges,cutoff=.1,step=0.001):\n",
    "    ''' gets order books aggreagtes them then normalizes\n",
    "        returns a dataframe\n",
    "    '''\n",
    "    return normalize_order_book(aggregate_order_books({key:order_books[key] for key in exchanges}),cutoff,step)"
   ]
  },
  {
   "cell_type": "code",
   "execution_count": null,
   "metadata": {},
   "outputs": [],
   "source": [
    "pair = 'BTC-PERPETUAL'"
   ]
  },
  {
   "cell_type": "code",
   "execution_count": null,
   "metadata": {},
   "outputs": [],
   "source": [
    "ex = get_exchanges_for_pair(pair)"
   ]
  },
  {
   "cell_type": "code",
   "execution_count": null,
   "metadata": {},
   "outputs": [],
   "source": [
    "ex"
   ]
  },
  {
   "cell_type": "code",
   "execution_count": null,
   "metadata": {},
   "outputs": [],
   "source": [
    "obs = get_order_books(pair,ex)"
   ]
  },
  {
   "cell_type": "code",
   "execution_count": null,
   "metadata": {},
   "outputs": [],
   "source": [
    "obs['deribit']"
   ]
  },
  {
   "cell_type": "code",
   "execution_count": null,
   "metadata": {},
   "outputs": [],
   "source": [
    "exch_dict"
   ]
  },
  {
   "cell_type": "code",
   "execution_count": null,
   "metadata": {},
   "outputs": [],
   "source": [
    "exch_dict['bitmex'].markets"
   ]
  },
  {
   "cell_type": "code",
   "execution_count": null,
   "metadata": {},
   "outputs": [],
   "source": [
    "def get_instruments():\n",
    "    deribit_all_ins={}\n",
    "    for base in Xpto:\n",
    "        base_list=[]\n",
    "        for ins in deribit.markets:\n",
    "            market = deribit.markets[ins]\n",
    "            if market['type']=='future' and market['base']==base:\n",
    "                base_list.append(ins)\n",
    "        deribit_all_ins[base]=base_list\n",
    "    bitmex_all_ins={}\n",
    "    for base in Xpto:\n",
    "        base_list=[]\n",
    "        for ins in bitmex.markets:\n",
    "            if not ins.startswith('.') and '_' not in ins:\n",
    "                market = bitmex.markets[ins]\n",
    "                if market['type'] in ('future','swap') and market['base']==base:\n",
    "                    expiry = market['info']['expiry']\n",
    "                    if expiry is None:\n",
    "                        base_list.append(ins)\n",
    "                    else:\n",
    "                        dt_expiry = dt.datetime.strptime(expiry,\"%Y-%m-%dT%H:%M:%S.%fZ\")\n",
    "                        if dt_expiry > dt.datetime.now():\n",
    "                            base_list.append(ins)\n",
    "            bitmex_all_ins[base]=base_list\n",
    "    return deribit_all_ins,bitmex_all_ins"
   ]
  },
  {
   "cell_type": "code",
   "execution_count": null,
   "metadata": {},
   "outputs": [],
   "source": [
    "get_instruments()"
   ]
  },
  {
   "cell_type": "code",
   "execution_count": null,
   "metadata": {},
   "outputs": [],
   "source": [
    "for ins in bitmex.markets:\n",
    "    if not ins.startswith('.'):\n",
    "        print (ins)"
   ]
  },
  {
   "cell_type": "code",
   "execution_count": null,
   "metadata": {},
   "outputs": [],
   "source": [
    "bitmex.markets['XBT7D_U105']"
   ]
  },
  {
   "cell_type": "code",
   "execution_count": null,
   "metadata": {},
   "outputs": [],
   "source": [
    "expiry=deribit.markets['BTC-28JUN19']['info']"
   ]
  },
  {
   "cell_type": "code",
   "execution_count": null,
   "metadata": {},
   "outputs": [],
   "source": [
    "deribit.fetch_balance()"
   ]
  },
  {
   "cell_type": "code",
   "execution_count": 27,
   "metadata": {},
   "outputs": [],
   "source": [
    "pair = 'BTC/USD'"
   ]
  },
  {
   "cell_type": "code",
   "execution_count": null,
   "metadata": {},
   "outputs": [],
   "source": []
  },
  {
   "cell_type": "code",
   "execution_count": 28,
   "metadata": {},
   "outputs": [],
   "source": [
    "ex = get_exchanges_for_pair(pair)"
   ]
  },
  {
   "cell_type": "code",
   "execution_count": 40,
   "metadata": {},
   "outputs": [],
   "source": [
    "order_books_1 = {key: value.fetch_order_book(pair)\n",
    "                        for key,value in ex.items() }"
   ]
  },
  {
   "cell_type": "code",
   "execution_count": 47,
   "metadata": {},
   "outputs": [
    {
     "data": {
      "text/plain": [
       "3273"
      ]
     },
     "execution_count": 47,
     "metadata": {},
     "output_type": "execute_result"
    }
   ],
   "source": [
    "len(order_books_1['bitmex']['bids'])"
   ]
  },
  {
   "cell_type": "code",
   "execution_count": 42,
   "metadata": {},
   "outputs": [],
   "source": [
    "order_books_2 = {key: value.fetch_order_book(pair,limit=2000 ,\n",
    "                        params={'full':1,'level':3,'limit_bids':0,'limit_asks':0,'type':'both'})\n",
    "                        for key,value in ex.items() }"
   ]
  },
  {
   "cell_type": "code",
   "execution_count": 48,
   "metadata": {},
   "outputs": [
    {
     "data": {
      "text/plain": [
       "2000"
      ]
     },
     "execution_count": 48,
     "metadata": {},
     "output_type": "execute_result"
    }
   ],
   "source": [
    "len(order_books_2['bitmex']['bids'])"
   ]
  },
  {
   "cell_type": "code",
   "execution_count": 54,
   "metadata": {},
   "outputs": [
    {
     "data": {
      "text/plain": [
       "[{'info': {'orderID': 'c7e65482-86ae-dfc9-426d-fb858f60d395',\n",
       "   'clOrdID': '',\n",
       "   'clOrdLinkID': '',\n",
       "   'account': 787492,\n",
       "   'symbol': 'XBTUSD',\n",
       "   'side': 'Buy',\n",
       "   'simpleOrderQty': None,\n",
       "   'orderQty': 1,\n",
       "   'price': 4112,\n",
       "   'displayQty': None,\n",
       "   'stopPx': None,\n",
       "   'pegOffsetValue': None,\n",
       "   'pegPriceType': '',\n",
       "   'currency': 'USD',\n",
       "   'settlCurrency': 'XBt',\n",
       "   'ordType': 'Limit',\n",
       "   'timeInForce': 'GoodTillCancel',\n",
       "   'execInst': '',\n",
       "   'contingencyType': '',\n",
       "   'exDestination': 'XBME',\n",
       "   'ordStatus': 'New',\n",
       "   'triggered': '',\n",
       "   'workingIndicator': True,\n",
       "   'ordRejReason': '',\n",
       "   'simpleLeavesQty': None,\n",
       "   'leavesQty': 1,\n",
       "   'simpleCumQty': None,\n",
       "   'cumQty': 0,\n",
       "   'avgPx': None,\n",
       "   'multiLegReportingType': 'SingleSecurity',\n",
       "   'text': 'Submission from www.bitmex.com',\n",
       "   'transactTime': '2019-04-01T11:21:24.991Z',\n",
       "   'timestamp': '2019-04-01T11:21:24.991Z'},\n",
       "  'id': 'c7e65482-86ae-dfc9-426d-fb858f60d395',\n",
       "  'timestamp': 1554117684991,\n",
       "  'datetime': '2019-04-01T11:21:24.991Z',\n",
       "  'lastTradeTimestamp': 1554117684991,\n",
       "  'symbol': 'BTC/USD',\n",
       "  'type': 'limit',\n",
       "  'side': 'buy',\n",
       "  'price': 4112.0,\n",
       "  'amount': 1.0,\n",
       "  'cost': 0.0,\n",
       "  'average': None,\n",
       "  'filled': 0.0,\n",
       "  'remaining': 1.0,\n",
       "  'status': 'open',\n",
       "  'fee': None}]"
      ]
     },
     "execution_count": 54,
     "metadata": {},
     "output_type": "execute_result"
    }
   ],
   "source": [
    "bitmex.fetch_open_orders()"
   ]
  },
  {
   "cell_type": "code",
   "execution_count": 50,
   "metadata": {},
   "outputs": [
    {
     "data": {
      "text/plain": [
       "[]"
      ]
     },
     "execution_count": 50,
     "metadata": {},
     "output_type": "execute_result"
    }
   ],
   "source": [
    "bitmex.fetch_closed_orders()"
   ]
  },
  {
   "cell_type": "code",
   "execution_count": null,
   "metadata": {},
   "outputs": [],
   "source": []
  },
  {
   "cell_type": "code",
   "execution_count": null,
   "metadata": {},
   "outputs": [],
   "source": []
  }
 ],
 "metadata": {
  "kernelspec": {
   "display_name": "Python 3",
   "language": "python",
   "name": "python3"
  },
  "language_info": {
   "codemirror_mode": {
    "name": "ipython",
    "version": 3
   },
   "file_extension": ".py",
   "mimetype": "text/x-python",
   "name": "python",
   "nbconvert_exporter": "python",
   "pygments_lexer": "ipython3",
   "version": "3.7.2"
  }
 },
 "nbformat": 4,
 "nbformat_minor": 2
}
