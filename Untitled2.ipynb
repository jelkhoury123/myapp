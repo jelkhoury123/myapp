{
 "cells": [
  {
   "cell_type": "code",
   "execution_count": 21,
   "metadata": {},
   "outputs": [],
   "source": [
    "import numpy as np\n",
    "import pandas as pd\n",
    "import sched, time, datetime, os\n",
    "\n",
    "from models import BSprice, BSgreeks, BSiv, otm\n",
    "from models import vvv, vvv_fitter\n",
    "\n",
    "from deribit_api2 import get_data\n",
    "import pymongo"
   ]
  },
  {
   "cell_type": "code",
   "execution_count": 22,
   "metadata": {},
   "outputs": [],
   "source": [
    "data = get_data()"
   ]
  },
  {
   "cell_type": "code",
   "execution_count": 23,
   "metadata": {},
   "outputs": [],
   "source": [
    "futures=data[-1]"
   ]
  },
  {
   "cell_type": "code",
   "execution_count": 24,
   "metadata": {},
   "outputs": [],
   "source": [
    "fitparams = data[-2]"
   ]
  },
  {
   "cell_type": "code",
   "execution_count": 26,
   "metadata": {},
   "outputs": [],
   "source": [
    "optmats =data[:-2]"
   ]
  },
  {
   "cell_type": "code",
   "execution_count": 33,
   "metadata": {},
   "outputs": [],
   "source": [
    "opt = pd.concat(optmats,sort = False)\n",
    "now = fitparams.columns.name\n",
    "opt.columns.name=now"
   ]
  },
  {
   "cell_type": "code",
   "execution_count": 34,
   "metadata": {},
   "outputs": [],
   "source": [
    "client=pymongo.MongoClient()"
   ]
  },
  {
   "cell_type": "code",
   "execution_count": 35,
   "metadata": {},
   "outputs": [],
   "source": [
    "db=client.fits"
   ]
  },
  {
   "cell_type": "code",
   "execution_count": 36,
   "metadata": {},
   "outputs": [],
   "source": [
    "vvv_fits=db.vvv_fits"
   ]
  },
  {
   "cell_type": "code",
   "execution_count": 37,
   "metadata": {},
   "outputs": [
    {
     "data": {
      "text/plain": [
       "<pymongo.results.InsertOneResult at 0x2c162ef2b48>"
      ]
     },
     "execution_count": 37,
     "metadata": {},
     "output_type": "execute_result"
    }
   ],
   "source": [
    "vvv_fits.insert_one({\"Time\":now,\"Surface\":fitparams.to_json(),\"Options\":opt.to_json(),\"Futures\":futures.to_json()})"
   ]
  },
  {
   "cell_type": "code",
   "execution_count": 1,
   "metadata": {},
   "outputs": [],
   "source": [
    "import ccxt"
   ]
  },
  {
   "cell_type": "code",
   "execution_count": 2,
   "metadata": {},
   "outputs": [],
   "source": [
    "coin = ccxt.coinmarketcap()"
   ]
  },
  {
   "cell_type": "code",
   "execution_count": 3,
   "metadata": {},
   "outputs": [],
   "source": [
    "coindata=coin.load_markets()"
   ]
  },
  {
   "cell_type": "code",
   "execution_count": 5,
   "metadata": {},
   "outputs": [
    {
     "data": {
      "text/plain": [
       "{'id': 'bitcoin',\n",
       " 'name': 'Bitcoin',\n",
       " 'symbol': 'BTC',\n",
       " 'rank': '1',\n",
       " 'price_usd': '3886.49070592',\n",
       " 'price_btc': '1.0',\n",
       " '24h_volume_usd': '10193363291.2',\n",
       " 'market_cap_usd': '68299193896.0',\n",
       " 'available_supply': '17573487.0',\n",
       " 'total_supply': '17573487.0',\n",
       " 'max_supply': '21000000.0',\n",
       " 'percent_change_1h': '-0.13',\n",
       " 'percent_change_24h': '2.86',\n",
       " 'percent_change_7d': '0.52',\n",
       " 'last_updated': '1551862284'}"
      ]
     },
     "execution_count": 5,
     "metadata": {},
     "output_type": "execute_result"
    }
   ],
   "source": [
    "coindata['BTC/USD']['info']"
   ]
  },
  {
   "cell_type": "code",
   "execution_count": 11,
   "metadata": {},
   "outputs": [],
   "source": [
    "bitfinex = ccxt.bitfinex()"
   ]
  },
  {
   "cell_type": "code",
   "execution_count": 12,
   "metadata": {},
   "outputs": [],
   "source": [
    "markets=bitfinex.load_markets()"
   ]
  },
  {
   "cell_type": "code",
   "execution_count": 20,
   "metadata": {},
   "outputs": [
    {
     "data": {
      "text/plain": [
       "{'fee_loaded': False,\n",
       " 'percentage': True,\n",
       " 'tierBased': True,\n",
       " 'maker': 0.001,\n",
       " 'taker': 0.002,\n",
       " 'tiers': {'taker': [[0, 0.002],\n",
       "   [500000, 0.002],\n",
       "   [1000000, 0.002],\n",
       "   [2500000, 0.002],\n",
       "   [5000000, 0.002],\n",
       "   [7500000, 0.002],\n",
       "   [10000000, 0.0018],\n",
       "   [15000000, 0.0016],\n",
       "   [20000000, 0.0014000000000000002],\n",
       "   [25000000, 0.0012],\n",
       "   [30000000, 0.001]],\n",
       "  'maker': [[0, 0.001],\n",
       "   [500000, 0.0008],\n",
       "   [1000000, 0.0006],\n",
       "   [2500000, 0.0004],\n",
       "   [5000000, 0.0002],\n",
       "   [7500000, 0],\n",
       "   [10000000, 0],\n",
       "   [15000000, 0],\n",
       "   [20000000, 0],\n",
       "   [25000000, 0],\n",
       "   [30000000, 0]]},\n",
       " 'precision': {'price': 5, 'amount': 5},\n",
       " 'limits': {'amount': {'min': 10.0, 'max': 20000.0},\n",
       "  'price': {'min': 1e-05, 'max': 100000.0},\n",
       "  'cost': {'min': 0.0001, 'max': None}},\n",
       " 'id': 'DAIUSD',\n",
       " 'symbol': 'DAI/USD',\n",
       " 'base': 'DAI',\n",
       " 'quote': 'USD',\n",
       " 'baseId': 'DAI',\n",
       " 'quoteId': 'USD',\n",
       " 'active': True,\n",
       " 'info': {'pair': 'daiusd',\n",
       "  'price_precision': 5,\n",
       "  'initial_margin': '30.0',\n",
       "  'minimum_margin': '15.0',\n",
       "  'maximum_order_size': '20000.0',\n",
       "  'minimum_order_size': '10.0',\n",
       "  'expiration': 'NA',\n",
       "  'margin': False}}"
      ]
     },
     "execution_count": 20,
     "metadata": {},
     "output_type": "execute_result"
    }
   ],
   "source": [
    "markets['DAI/USD']"
   ]
  },
  {
   "cell_type": "code",
   "execution_count": null,
   "metadata": {},
   "outputs": [],
   "source": []
  }
 ],
 "metadata": {
  "kernelspec": {
   "display_name": "Python 3",
   "language": "python",
   "name": "python3"
  },
  "language_info": {
   "codemirror_mode": {
    "name": "ipython",
    "version": 3
   },
   "file_extension": ".py",
   "mimetype": "text/x-python",
   "name": "python",
   "nbconvert_exporter": "python",
   "pygments_lexer": "ipython3",
   "version": "3.7.2"
  }
 },
 "nbformat": 4,
 "nbformat_minor": 2
}
