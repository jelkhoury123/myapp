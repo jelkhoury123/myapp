{
 "cells": [
  {
   "cell_type": "code",
   "execution_count": 15,
   "metadata": {},
   "outputs": [],
   "source": [
    "import json\n",
    "import time\n",
    "import requests\n",
    "\n",
    "class Sfox:\n",
    "    def __init__(self, endpoint=\"api.sfox.com\", version=\"v1\"):\n",
    "        self.endpoint = endpoint.lower()\n",
    "        self.apiVersion = version.lower()\n",
    "\n",
    "    def url_for(self, resource):\n",
    "        return \"https://\" + self.endpoint + \"/\" + self.apiVersion + \"/\" + resource\n",
    "\n",
    "    def __get(self, resource, apiKey=None):\n",
    "        resource = resource.lower()\n",
    "        auth = None\n",
    "        if apiKey:\n",
    "            auth = requests.auth.HTTPBasicAuth(apiKey, \"\")\n",
    "        url = self.url_for(resource)\n",
    "        return requests.get(url, auth=auth)\n",
    "\n",
    "    def orderbook(self, market):\n",
    "        market = market.lower()\n",
    "        resource = \"markets/orderbook/\"+market\n",
    "        res = self.__get(resource)\n",
    "        return json.loads(res.text)\n",
    "\n",
    "    def bestBuyPrice(self, quantity):\n",
    "        resource = \"offer/buy?amount=\"+str(quantity)\n",
    "        res = self.__get(resource)\n",
    "        data = json.loads(res.text)\n",
    "        return data[\"price\"]\n",
    "\n",
    "    def bestSellPrice(self, quantity):\n",
    "        resource = \"offer/sell?amount=\"+str(quantity)\n",
    "        res = self.__get(resource)\n",
    "        data = json.loads(res.text)\n",
    "        return data[\"price\"]"
   ]
  },
  {
   "cell_type": "code",
   "execution_count": 16,
   "metadata": {},
   "outputs": [],
   "source": [
    "sfox=Sfox()"
   ]
  },
  {
   "cell_type": "code",
   "execution_count": 17,
   "metadata": {},
   "outputs": [
    {
     "data": {
      "text/plain": [
       "3581.78"
      ]
     },
     "execution_count": 17,
     "metadata": {},
     "output_type": "execute_result"
    }
   ],
   "source": [
    "sfox.bestBuyPrice(5)"
   ]
  },
  {
   "cell_type": "code",
   "execution_count": 23,
   "metadata": {},
   "outputs": [
    {
     "data": {
      "text/plain": [
       "{'bids': [[3579.01, 1.77368043, 'gemini'],\n",
       "  [3578.76, 0.5, 'gemini'],\n",
       "  [3578.7, 0.5, 'gemini'],\n",
       "  [3578.56, 2, 'gemini'],\n",
       "  [3578.31, 2.7946, 'itbit'],\n",
       "  [3578.3, 0.0023, 'itbit'],\n",
       "  [3578.17, 0.13833887, 'gemini'],\n",
       "  [3577.71, 0.13836783, 'gemini'],\n",
       "  [3577.68, 1, 'itbit'],\n",
       "  [3577.66, 1.2775, 'itbit'],\n",
       "  [3577.65, 0.31589633, 'bitstamp'],\n",
       "  [3577.5, 0.01165569, 'market1'],\n",
       "  [3577.45, 2, 'gemini'],\n",
       "  [3577.4, 2.54, 'gemini'],\n",
       "  [3577.4, 2, 'itbit'],\n",
       "  [3577.38, 1, 'itbit'],\n",
       "  [3577.19, 0.01, 'market1'],\n",
       "  [3577.16, 0.5, 'market1'],\n",
       "  [3577.12, 0.001, 'market1'],\n",
       "  [3577, 0.47400767, 'market1']],\n",
       " 'asks': [[3577.51, 5.00267254, 'market1'],\n",
       "  [3577.7, 0.01, 'market1'],\n",
       "  [3577.78, 39.9, 'market1'],\n",
       "  [3577.79, 23.9, 'market1'],\n",
       "  [3578.01, 7.77793193, 'market1'],\n",
       "  [3578.3, 1.001, 'market1'],\n",
       "  [3578.51, 1.68410367, 'bitstamp'],\n",
       "  [3578.68, 0.00038761, 'market1'],\n",
       "  [3578.79, 0.2916958, 'bitstamp'],\n",
       "  [3578.89, 0.009, 'market1'],\n",
       "  [3578.9, 0.001, 'market1'],\n",
       "  [3579, 0.00749964, 'market1'],\n",
       "  [3579.12, 0.5, 'bitstamp'],\n",
       "  [3579.12, 1, 'gemini'],\n",
       "  [3579.2, 1, 'gemini'],\n",
       "  [3579.28, 1, 'itbit'],\n",
       "  [3579.29, 1, 'itbit'],\n",
       "  [3579.32, 0.05, 'market1'],\n",
       "  [3579.33, 1, 'bitstamp'],\n",
       "  [3579.35, 0.6486, 'market1']],\n",
       " 'market_making': {'bids': [[3577.5, 0.01165569, 'market1'],\n",
       "   [3577.65, 0.31589633, 'bitstamp'],\n",
       "   [3578.31, 2.7946, 'itbit'],\n",
       "   [3579.01, 1.77368043, 'gemini'],\n",
       "   [3672.8, 10.45507276, 'bitfinex']],\n",
       "  'asks': [[3579.28, 1, 'itbit'],\n",
       "   [3579.12, 1, 'gemini'],\n",
       "   [3578.51, 1.68410367, 'bitstamp'],\n",
       "   [3577.51, 5.00267254, 'market1']]},\n",
       " 'exchanges': {'bitstamp': 'OK',\n",
       "  'bitfinex': 'OK',\n",
       "  'gemini': 'OK',\n",
       "  'itbit': 'OK',\n",
       "  'quoine': 'DEGRADED',\n",
       "  'market1': 'OK',\n",
       "  'market2': 'DEGRADED'},\n",
       " 'lastupdated': 1550111752373,\n",
       " 'pair': 'btcusd',\n",
       " 'currency': 'usd'}"
      ]
     },
     "execution_count": 23,
     "metadata": {},
     "output_type": "execute_result"
    }
   ],
   "source": [
    "sfox.orderbook('btcusd')"
   ]
  },
  {
   "cell_type": "code",
   "execution_count": null,
   "metadata": {},
   "outputs": [],
   "source": []
  }
 ],
 "metadata": {
  "kernelspec": {
   "display_name": "Python 3",
   "language": "python",
   "name": "python3"
  },
  "language_info": {
   "codemirror_mode": {
    "name": "ipython",
    "version": 3
   },
   "file_extension": ".py",
   "mimetype": "text/x-python",
   "name": "python",
   "nbconvert_exporter": "python",
   "pygments_lexer": "ipython3",
   "version": "3.7.1"
  }
 },
 "nbformat": 4,
 "nbformat_minor": 2
}
